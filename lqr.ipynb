{
 "cells": [
  {
   "cell_type": "code",
   "execution_count": 1,
   "metadata": {},
   "outputs": [],
   "source": [
    "import torch\n",
    "import cvxpy as cp\n",
    "import numpy as np\n",
    "from cvxpylayers.torch import CvxpyLayer\n",
    "from scipy.linalg import sqrtm\n",
    "from scipy.linalg import solve_discrete_are"
   ]
  },
  {
   "cell_type": "code",
   "execution_count": 2,
   "metadata": {},
   "outputs": [],
   "source": [
    "np.random.seed(0)\n",
    "\n",
    "# generate problem data\n",
    "n, m = 4, 2\n",
    "noise = np.sqrt(0.25)\n",
    "Q0 = np.eye(n)\n",
    "R0 = np.eye(m)\n",
    "A = np.random.randn(n, n)\n",
    "A /= np.max(np.abs(np.linalg.eig(A)[0]))\n",
    "B = np.random.randn(n, m)\n",
    "W = noise**2 * np.eye(n)"
   ]
  },
  {
   "cell_type": "code",
   "execution_count": 3,
   "metadata": {},
   "outputs": [
    {
     "name": "stdout",
     "output_type": "stream",
     "text": [
      "1.8031178751626373\n"
     ]
    }
   ],
   "source": [
    "# compute lqr solution\n",
    "P = cp.Variable((n, n), PSD=True)\n",
    "R0cvxpy = cp.Parameter((m, m), PSD=True)\n",
    "\n",
    "objective = cp.trace(P@W)\n",
    "constraints = [cp.bmat([\n",
    "    [R0cvxpy + B.T@P@B, B.T@P@A],\n",
    "    [A.T@P@B, Q0+A.T@P@A-P]\n",
    "]) >> 0, P >> 0]\n",
    "R0cvxpy.value = R0\n",
    "result = cp.Problem(cp.Maximize(objective), constraints).solve()\n",
    "P_lqr = P.value\n",
    "print(result)"
   ]
  },
  {
   "cell_type": "code",
   "execution_count": 4,
   "metadata": {},
   "outputs": [
    {
     "data": {
      "text/plain": [
       "array([[1.854, 0.122, 0.516, 1.053],\n",
       "       [0.122, 1.182, 0.096, 0.448],\n",
       "       [0.516, 0.096, 1.315, 0.676],\n",
       "       [1.053, 0.448, 0.676, 2.861]])"
      ]
     },
     "execution_count": 4,
     "metadata": {},
     "output_type": "execute_result"
    }
   ],
   "source": [
    "P_lqr"
   ]
  },
  {
   "cell_type": "code",
   "execution_count": 5,
   "metadata": {},
   "outputs": [],
   "source": [
    "# set up policy\n",
    "x = cp.Parameter((n, 1))\n",
    "P_sqrt = cp.Parameter((n, n))\n",
    "\n",
    "u = cp.Variable((m, 1))\n",
    "xnext = cp.Variable((n, 1))\n",
    "\n",
    "objective = cp.quad_form(u, R0) + cp.sum_squares(P_sqrt @ xnext)\n",
    "constraints = [xnext == A @ x + B @ u]\n",
    "prob = cp.Problem(cp.Minimize(objective), constraints)\n",
    "policy = CvxpyLayer(prob, [x, P_sqrt], [u])"
   ]
  },
  {
   "cell_type": "code",
   "execution_count": 6,
   "metadata": {},
   "outputs": [],
   "source": [
    "# initialize parameters\n",
    "Qt, Rt, At, Bt = map(torch.from_numpy, [Q0, R0, A, B])\n",
    "P_sqrt = torch.eye(n).double(); P_sqrt.requires_grad_(True);"
   ]
  },
  {
   "cell_type": "code",
   "execution_count": 7,
   "metadata": {},
   "outputs": [],
   "source": [
    "def loss(time_horizon, batch_size, P_sqrt, seed=None):\n",
    "    if seed is not None:\n",
    "        torch.manual_seed(seed)\n",
    "    x_batch = torch.randn(batch_size, n, 1).double()\n",
    "    P_sqrt_batch = P_sqrt.repeat(batch_size, 1, 1)\n",
    "    Qt_batch = Qt.repeat(batch_size, 1, 1)\n",
    "    Rt_batch = Rt.repeat(batch_size, 1, 1)\n",
    "    At_batch = At.repeat(batch_size, 1, 1)\n",
    "    Bt_batch = Bt.repeat(batch_size, 1, 1)\n",
    "    loss = 0.0\n",
    "    for _ in range(time_horizon):\n",
    "        u_batch, = policy(x_batch, P_sqrt_batch, solver_args={\"acceleration_lookback\": 0})\n",
    "        state_cost = torch.bmm(torch.bmm(Qt_batch, x_batch).transpose(2, 1), x_batch)\n",
    "        control_cost = torch.bmm(torch.bmm(Rt_batch, u_batch).transpose(2, 1), u_batch)\n",
    "        cost_batch = (state_cost.squeeze() + control_cost.squeeze())\n",
    "        loss += cost_batch.sum() / (time_horizon * batch_size)\n",
    "        x_batch = torch.bmm(At_batch, x_batch) + \\\n",
    "            torch.bmm(Bt_batch, u_batch) + \\\n",
    "            noise * torch.randn(batch_size, n, 1).double()\n",
    "    return loss"
   ]
  },
  {
   "cell_type": "code",
   "execution_count": 8,
   "metadata": {},
   "outputs": [],
   "source": [
    "Kt = np.linalg.solve(R0 + B.T @ P_lqr @ B, -B.T @ P_lqr @ A)\n",
    "loss_lqr = loss(100, 6, torch.from_numpy(sqrtm(P_lqr)), seed=0).item()"
   ]
  },
  {
   "cell_type": "code",
   "execution_count": 10,
   "metadata": {},
   "outputs": [
    {
     "ename": "RuntimeError",
     "evalue": "linalg.solve: A must be batches of square matrices, but they are 4 by 2 matrices",
     "output_type": "error",
     "traceback": [
      "\u001b[0;31m---------------------------------------------------------------------------\u001b[0m",
      "\u001b[0;31mRuntimeError\u001b[0m                              Traceback (most recent call last)",
      "Cell \u001b[0;32mIn [10], line 7\u001b[0m\n\u001b[1;32m      5\u001b[0m \u001b[38;5;28;01mwith\u001b[39;00m torch\u001b[38;5;241m.\u001b[39mno_grad():\n\u001b[1;32m      6\u001b[0m     test_loss \u001b[38;5;241m=\u001b[39m loss(\u001b[38;5;241m100\u001b[39m, \u001b[38;5;241m6\u001b[39m, P_sqrt\u001b[38;5;241m.\u001b[39mdetach(), seed\u001b[38;5;241m=\u001b[39m\u001b[38;5;241m0\u001b[39m)\u001b[38;5;241m.\u001b[39mitem()\n\u001b[0;32m----> 7\u001b[0m     K_np \u001b[38;5;241m=\u001b[39m (\u001b[43mtorch\u001b[49m\u001b[38;5;241;43m.\u001b[39;49m\u001b[43mlinalg\u001b[49m\u001b[38;5;241;43m.\u001b[39;49m\u001b[43msolve\u001b[49m\u001b[43m(\u001b[49m\u001b[38;5;241;43m-\u001b[39;49m\u001b[43mBt\u001b[49m\u001b[38;5;241;43m.\u001b[39;49m\u001b[43mt\u001b[49m\u001b[43m(\u001b[49m\u001b[43m)\u001b[49m\u001b[43m \u001b[49m\u001b[38;5;241;43m@\u001b[39;49m\u001b[43m \u001b[49m\u001b[43mP_sqrt\u001b[49m\u001b[38;5;241;43m.\u001b[39;49m\u001b[43mt\u001b[49m\u001b[43m(\u001b[49m\u001b[43m)\u001b[49m\u001b[43m \u001b[49m\u001b[38;5;241;43m@\u001b[39;49m\u001b[43m \u001b[49m\u001b[43mP_sqrt\u001b[49m\u001b[43m \u001b[49m\u001b[38;5;241;43m@\u001b[39;49m\u001b[43m \u001b[49m\u001b[43mAt\u001b[49m\u001b[43m,\u001b[49m\u001b[43m \u001b[49m\u001b[43mRt\u001b[49m\u001b[43m \u001b[49m\u001b[38;5;241;43m+\u001b[39;49m\u001b[43m \u001b[49m\u001b[43mBt\u001b[49m\u001b[38;5;241;43m.\u001b[39;49m\u001b[43mt\u001b[49m\u001b[43m(\u001b[49m\u001b[43m)\u001b[49m\u001b[43m \u001b[49m\u001b[38;5;241;43m@\u001b[39;49m\u001b[43m \u001b[49m\u001b[43mP_sqrt\u001b[49m\u001b[38;5;241;43m.\u001b[39;49m\u001b[43mt\u001b[49m\u001b[43m(\u001b[49m\u001b[43m)\u001b[49m\u001b[43m \u001b[49m\u001b[38;5;241;43m@\u001b[39;49m\u001b[43m \u001b[49m\u001b[43mP_sqrt\u001b[49m\u001b[43m \u001b[49m\u001b[38;5;241;43m@\u001b[39;49m\u001b[43m \u001b[49m\u001b[43mBt\u001b[49m\u001b[43m)\u001b[49m\u001b[38;5;241m.\u001b[39msolution)\u001b[38;5;241m.\u001b[39mdetach()\u001b[38;5;241m.\u001b[39mnumpy()\n\u001b[1;32m      8\u001b[0m     dist \u001b[38;5;241m=\u001b[39m np\u001b[38;5;241m.\u001b[39mlinalg\u001b[38;5;241m.\u001b[39mnorm(K_np \u001b[38;5;241m-\u001b[39m Kt)\n\u001b[1;32m      9\u001b[0m     P \u001b[38;5;241m=\u001b[39m (P_sqrt\u001b[38;5;241m.\u001b[39mt() \u001b[38;5;241m@\u001b[39m P_sqrt)\u001b[38;5;241m.\u001b[39mdetach()\u001b[38;5;241m.\u001b[39mnumpy()\n",
      "\u001b[0;31mRuntimeError\u001b[0m: linalg.solve: A must be batches of square matrices, but they are 4 by 2 matrices"
     ]
    }
   ],
   "source": [
    "losses = []\n",
    "opt = torch.optim.SGD([P_sqrt], lr=.5)\n",
    "test_loss = None\n",
    "for k in range(50):\n",
    "    with torch.no_grad():\n",
    "        test_loss = loss(100, 6, P_sqrt.detach(), seed=0).item()\n",
    "        K_np = (torch.linalg.solve(-Bt.t() @ P_sqrt.t() @ P_sqrt @ At, Rt + Bt.t() @ P_sqrt.t() @ P_sqrt @ Bt).solution).detach().numpy()\n",
    "        dist = np.linalg.norm(K_np - Kt)\n",
    "        P = (P_sqrt.t() @ P_sqrt).detach().numpy()\n",
    "        dist_P = np.linalg.norm(P_lqr - P)\n",
    "        losses.append(test_loss)\n",
    "        print(\"it: %03d, loss: %3.3f, dist: %3.3f, dist_P: %3.3f\" % (k+1, test_loss - loss_lqr, dist, dist_P))\n",
    "    opt.zero_grad()\n",
    "    l = loss(100, 6, P_sqrt, seed=k+1)\n",
    "    l.backward()\n",
    "    opt.step()\n",
    "    if k == 25:\n",
    "        opt = torch.optim.SGD([P_sqrt], lr=.1)"
   ]
  },
  {
   "cell_type": "code",
   "execution_count": 53,
   "metadata": {},
   "outputs": [
    {
     "data": {
      "image/png": "[encoded data removed]",
      "text/plain": [
       "<Figure size 288x177.994 with 1 Axes>"
      ]
     },
     "metadata": {
      "needs_background": "light"
     },
     "output_type": "display_data"
    }
   ],
   "source": [
    "import matplotlib.pyplot as plt\n",
    "from utils import latexify\n",
    "import matplotlib\n",
    "\n",
    "latexify(fig_width=4)\n",
    "fig, ax = plt.subplots()\n",
    "plt.xticks([0, 10, 20, 30, 40, 50])\n",
    "plt.semilogy(losses, color='k', label='COCP')\n",
    "plt.gca().yaxis.set_minor_formatter(matplotlib.ticker.ScalarFormatter())\n",
    "plt.axhline(loss_lqr, linestyle='--', color='k', label='LQR')\n",
    "plt.legend()\n",
    "plt.ylabel(\"cost\")\n",
    "plt.xlabel(\"$k$\")\n",
    "plt.subplots_adjust(left=.15, bottom=.2)\n",
    "plt.savefig(\"lqr.pdf\")\n",
    "plt.show()"
   ]
  },
  {
   "cell_type": "code",
   "execution_count": null,
   "metadata": {},
   "outputs": [],
   "source": []
  }
 ],
 "metadata": {
  "@webio": {
   "lastCommId": null,
   "lastKernelId": null
  },
  "kernelspec": {
   "display_name": "Python 3 (ipykernel)",
   "language": "python",
   "name": "python3"
  },
  "language_info": {
   "codemirror_mode": {
    "name": "ipython",
    "version": 3
   },
   "file_extension": ".py",
   "mimetype": "text/x-python",
   "name": "python",
   "nbconvert_exporter": "python",
   "pygments_lexer": "ipython3",
   "version": "3.9.13"
  }
 },
 "nbformat": 4,
 "nbformat_minor": 2
}
